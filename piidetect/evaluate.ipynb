{
 "cells": [
  {
   "cell_type": "code",
   "execution_count": 4,
   "metadata": {},
   "outputs": [],
   "source": [
    "import pickle\n",
    "import os"
   ]
  },
  {
   "cell_type": "code",
   "execution_count": 5,
   "metadata": {},
   "outputs": [],
   "source": [
    "path_gt = \"/home/ybouaouni/workspace/Training/PII-Data-Detection-Transformers/data/holdout/validation.csv\""
   ]
  },
  {
   "cell_type": "code",
   "execution_count": 29,
   "metadata": {},
   "outputs": [],
   "source": [
    "def load_pickle_files(paths):\n",
    "    \"\"\"\n",
    "    Load pickle files from a list of paths.\n",
    "\n",
    "    Args:\n",
    "    paths (list of str): List of file paths.\n",
    "\n",
    "    Returns:\n",
    "    list: List of opened pickle files.\n",
    "    \"\"\"\n",
    "    pickle_files = []\n",
    "    for path in paths:\n",
    "        with open(path, 'rb') as file:\n",
    "            pickle_files.append(pickle.load(file))\n",
    "    return pickle_files\n",
    "\n",
    "def pickle2preds(pickle_files):\n",
    "\n",
    "    preds_ensemble, pred_class_ensemble, ds_dict_ensemble, id2label_ensemble  = [], [], [], []\n",
    "    for pickle_file in pickle_files:\n",
    "        preds_ensemble.append(pickle_file['preds'])\n",
    "        pred_class_ensemble.append(pickle_file['pred_classes'])\n",
    "        ds_dict_ensemble.append(pickle_file['ds_dict'])\n",
    "        id2label_ensemble.append(pickle_file['id2label'])\n",
    "    return {\"preds\": preds_ensemble , \"pred_class\": pred_class_ensemble, \"id2label\": id2label_ensemble , \"ds_dict\": ds_dict_ensemble}\n",
    "        \n",
    "\n",
    "root = \"/home/ybouaouni/workspace/Training/PII-Data-Detection-Transformers/piidetect/Deberta-Base-HPO-Preds\"\n",
    "models = [\n",
    "\"deberta_base_ep2_bs4_acc1_lr2e-05_dropout0.15_tonyarobertson\",\n",
    "\"deberta_base_ep2_bs6_acc1_lr2e-05_dropout0.1_mpware\",\n",
    "\"deberta_base_ep2_bs4_acc1_lr2e-05_dropout0.1_nicholas\",\n",
    "\"deberta_base_ep2_bs4_acc1_lr2e-05_dropout0.1_tonyarobertson\"\n",
    "]\n"
   ]
  },
  {
   "cell_type": "code",
   "execution_count": 30,
   "metadata": {},
   "outputs": [],
   "source": [
    "\n",
    "model_paths = [os.path.join(root, model, \"predictions.pickle\") for model in models]\n",
    "pickle_results = load_pickle_files(model_paths)"
   ]
  },
  {
   "cell_type": "markdown",
   "metadata": {},
   "source": [
    "# Average predictions"
   ]
  },
  {
   "cell_type": "code",
   "execution_count": 31,
   "metadata": {},
   "outputs": [],
   "source": [
    "from utils.utils_test import *\n",
    "\n",
    "THRESHOLD = 0.9"
   ]
  },
  {
   "cell_type": "code",
   "execution_count": 32,
   "metadata": {},
   "outputs": [],
   "source": [
    "preds = [ pickle_result['preds'] for pickle_result in pickle_results]\n",
    "ds_dict = pickle_results[0]['ds_dict']\n",
    "id2label = pickle_results[0]['id2label']"
   ]
  },
  {
   "cell_type": "code",
   "execution_count": 33,
   "metadata": {},
   "outputs": [],
   "source": [
    "import numpy as np\n",
    "from collections import Counter\n",
    "# Combine the predictions into a single list of tuples\n",
    "combined_preds = zip(*preds)\n",
    "\n",
    "# Perform max voting for each position\n",
    "max_voted_preds = []\n",
    "for positions in combined_preds:\n",
    "    curr_sequence = []\n",
    "    for i in range(len(positions[0][0])):\n",
    "        curr_sequence.append(Counter([positions[0][0][i], positions[1][0][i], positions[2][0][i]]).most_common(1)[0][0])\n",
    "    max_voted_preds.append(np.array([np.array(curr_sequence)]))\n",
    "# Print the max voted predictions\n",
    "preds_final = max_voted_preds\n",
    "\n"
   ]
  },
  {
   "cell_type": "code",
   "execution_count": 34,
   "metadata": {},
   "outputs": [
    {
     "name": "stdout",
     "output_type": "stream",
     "text": [
      "True Positives: 522\n",
      "False Positives: 130\n",
      "False Negatives: 10\n",
      "Precision: 0.8006134969325154\n",
      "Recall: 0.981203007518797\n",
      "f1 competition: 0.9727637614678899\n",
      "0.8006134969325154 0.981203007518797 0.9727637614678899\n"
     ]
    }
   ],
   "source": [
    "\n",
    "\n",
    "ignored_labels = \"O\"\n",
    "processed, pairs = get_doc_token_pred_triplets(\n",
    "    preds_final, Dataset.from_dict(ds_dict), id2label, ignored_labels\n",
    ")\n",
    "\n",
    "\n",
    "df = pd.DataFrame(processed)\n",
    "df[\"row_id\"] = list(range(len(df)))\n",
    "df_gt = pd.read_csv(path_gt)\n",
    "precision, recall, f1 = Evaluator.compute_metrics_eval(df, df_gt)\n",
    "print(precision, recall, f1)\n"
   ]
  },
  {
   "cell_type": "code",
   "execution_count": null,
   "metadata": {},
   "outputs": [],
   "source": []
  }
 ],
 "metadata": {
  "kernelspec": {
   "display_name": "piidetect",
   "language": "python",
   "name": "python3"
  },
  "language_info": {
   "codemirror_mode": {
    "name": "ipython",
    "version": 3
   },
   "file_extension": ".py",
   "mimetype": "text/x-python",
   "name": "python",
   "nbconvert_exporter": "python",
   "pygments_lexer": "ipython3",
   "version": "3.11.8"
  }
 },
 "nbformat": 4,
 "nbformat_minor": 2
}
